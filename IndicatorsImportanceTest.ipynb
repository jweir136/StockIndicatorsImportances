{
  "nbformat": 4,
  "nbformat_minor": 0,
  "metadata": {
    "colab": {
      "name": "IndicatorsImportanceTest.ipynb",
      "version": "0.3.2",
      "provenance": [],
      "collapsed_sections": [],
      "include_colab_link": true
    },
    "kernelspec": {
      "name": "python3",
      "display_name": "Python 3"
    }
  },
  "cells": [
    {
      "cell_type": "markdown",
      "metadata": {
        "id": "view-in-github",
        "colab_type": "text"
      },
      "source": [
        "<a href=\"https://colab.research.google.com/github/jweir136/StockIndicatorsImportances/blob/master/IndicatorsImportanceTest.ipynb\" target=\"_parent\"><img src=\"https://colab.research.google.com/assets/colab-badge.svg\" alt=\"Open In Colab\"/></a>"
      ]
    },
    {
      "metadata": {
        "id": "DVBNi5wbGGVk",
        "colab_type": "code",
        "colab": {}
      },
      "cell_type": "code",
      "source": [
        "import pandas as pd\n",
        "from sklearn.ensemble import RandomForestRegressor\n",
        "from sklearn.model_selection import train_test_split\n",
        "import matplotlib.pyplot as plt\n",
        "import numpy as np\n",
        "\n",
        "%matplotlib inline\n",
        "\n",
        "!pip install -q stockstats\n",
        "\n",
        "from stockstats import StockDataFrame as Sdf\n",
        "#stockstats module is used to easily compute technical indicators in a pandas dataframe.\n",
        "\n",
        "np.random.seed(42)"
      ],
      "execution_count": 0,
      "outputs": []
    },
    {
      "metadata": {
        "id": "-4Lu5vuYHdEW",
        "colab_type": "code",
        "colab": {}
      },
      "cell_type": "code",
      "source": [
        "data = pd.read_csv(\"AAPL.csv\")\n",
        "\n",
        "stock = Sdf.retype(data)"
      ],
      "execution_count": 0,
      "outputs": []
    },
    {
      "metadata": {
        "id": "M-ww9n23H2MK",
        "colab_type": "code",
        "colab": {
          "base_uri": "https://localhost:8080/",
          "height": 102
        },
        "outputId": "1d334c08-ada4-4975-9b8f-fd1cf5ff46cd"
      },
      "cell_type": "code",
      "source": [
        "data['CR'] = stock['cr']\n",
        "data['kdjk'] = stock['kdjk']\n",
        "data['kdjd'] = stock['kdjd']\n",
        "data['kdjj'] = stock['kdjj']\n",
        "data['open_10_sma'] = stock['open_10_sma']\n",
        "data['macd'] = stock['macd']\n",
        "data['boll'] = stock['boll']\n",
        "data['rsi'] = stock['rsi_10']\n",
        "data['wr'] = stock['wr_10']\n",
        "data['cci'] = stock['cci_10']\n",
        "data['tr'] = stock['tr']\n",
        "data['dma'] = stock['dma']\n",
        "data['pdi'] = stock['pdi']\n",
        "data['mdi'] = stock['mdi']\n",
        "data['dx'] = stock['dx']\n",
        "data['vr'] = stock['vr']\n",
        "data['vr_10_sma'] = stock['vr_10_sma']\n",
        "data['trix'] = stock['trix']\n",
        "data['adx'] = stock['adx']\n",
        "data['adxr'] = stock['adxr']"
      ],
      "execution_count": 16,
      "outputs": [
        {
          "output_type": "stream",
          "text": [
            "/usr/local/lib/python3.6/dist-packages/pandas/core/indexing.py:194: SettingWithCopyWarning: \n",
            "A value is trying to be set on a copy of a slice from a DataFrame\n",
            "\n",
            "See the caveats in the documentation: http://pandas.pydata.org/pandas-docs/stable/indexing.html#indexing-view-versus-copy\n",
            "  self._setitem_with_indexer(indexer, value)\n"
          ],
          "name": "stderr"
        }
      ]
    },
    {
      "metadata": {
        "id": "b_yhyrqLIr5d",
        "colab_type": "code",
        "colab": {
          "base_uri": "https://localhost:8080/",
          "height": 369
        },
        "outputId": "7d359619-7580-426e-c582-3ccbcb3a1805"
      },
      "cell_type": "code",
      "source": [
        "data.tail()"
      ],
      "execution_count": 17,
      "outputs": [
        {
          "output_type": "execute_result",
          "data": {
            "text/html": [
              "<div>\n",
              "<style scoped>\n",
              "    .dataframe tbody tr th:only-of-type {\n",
              "        vertical-align: middle;\n",
              "    }\n",
              "\n",
              "    .dataframe tbody tr th {\n",
              "        vertical-align: top;\n",
              "    }\n",
              "\n",
              "    .dataframe thead th {\n",
              "        text-align: right;\n",
              "    }\n",
              "</style>\n",
              "<table border=\"1\" class=\"dataframe\">\n",
              "  <thead>\n",
              "    <tr style=\"text-align: right;\">\n",
              "      <th></th>\n",
              "      <th>open</th>\n",
              "      <th>high</th>\n",
              "      <th>low</th>\n",
              "      <th>close</th>\n",
              "      <th>adj close</th>\n",
              "      <th>volume</th>\n",
              "      <th>middle</th>\n",
              "      <th>cr</th>\n",
              "      <th>cr-ma1</th>\n",
              "      <th>cr-ma2</th>\n",
              "      <th>...</th>\n",
              "      <th>dx_14</th>\n",
              "      <th>dx</th>\n",
              "      <th>dx_6_ema</th>\n",
              "      <th>adx</th>\n",
              "      <th>adx_6_ema</th>\n",
              "      <th>adxr</th>\n",
              "      <th>change</th>\n",
              "      <th>vr</th>\n",
              "      <th>vr_10_sma</th>\n",
              "      <th>trix</th>\n",
              "    </tr>\n",
              "    <tr>\n",
              "      <th>date</th>\n",
              "      <th></th>\n",
              "      <th></th>\n",
              "      <th></th>\n",
              "      <th></th>\n",
              "      <th></th>\n",
              "      <th></th>\n",
              "      <th></th>\n",
              "      <th></th>\n",
              "      <th></th>\n",
              "      <th></th>\n",
              "      <th></th>\n",
              "      <th></th>\n",
              "      <th></th>\n",
              "      <th></th>\n",
              "      <th></th>\n",
              "      <th></th>\n",
              "      <th></th>\n",
              "      <th></th>\n",
              "      <th></th>\n",
              "      <th></th>\n",
              "      <th></th>\n",
              "    </tr>\n",
              "  </thead>\n",
              "  <tbody>\n",
              "    <tr>\n",
              "      <th>2018-12-21</th>\n",
              "      <td>156.860001</td>\n",
              "      <td>158.160004</td>\n",
              "      <td>149.630005</td>\n",
              "      <td>150.729996</td>\n",
              "      <td>150.729996</td>\n",
              "      <td>95744600</td>\n",
              "      <td>152.840002</td>\n",
              "      <td>44.585828</td>\n",
              "      <td>49.158493</td>\n",
              "      <td>49.717119</td>\n",
              "      <td>...</td>\n",
              "      <td>78.587502</td>\n",
              "      <td>78.587502</td>\n",
              "      <td>64.833500</td>\n",
              "      <td>64.833500</td>\n",
              "      <td>54.646948</td>\n",
              "      <td>54.646948</td>\n",
              "      <td>-3.889566</td>\n",
              "      <td>46.373632</td>\n",
              "      <td>49.744131</td>\n",
              "      <td>-0.739419</td>\n",
              "    </tr>\n",
              "    <tr>\n",
              "      <th>2018-12-24</th>\n",
              "      <td>148.149994</td>\n",
              "      <td>151.550003</td>\n",
              "      <td>146.589996</td>\n",
              "      <td>146.830002</td>\n",
              "      <td>146.830002</td>\n",
              "      <td>37169200</td>\n",
              "      <td>148.323334</td>\n",
              "      <td>44.382665</td>\n",
              "      <td>48.505741</td>\n",
              "      <td>49.016877</td>\n",
              "      <td>...</td>\n",
              "      <td>81.218528</td>\n",
              "      <td>81.218528</td>\n",
              "      <td>69.514937</td>\n",
              "      <td>69.514937</td>\n",
              "      <td>58.894945</td>\n",
              "      <td>58.894945</td>\n",
              "      <td>-2.587404</td>\n",
              "      <td>47.755730</td>\n",
              "      <td>49.444370</td>\n",
              "      <td>-0.777095</td>\n",
              "    </tr>\n",
              "    <tr>\n",
              "      <th>2018-12-26</th>\n",
              "      <td>148.300003</td>\n",
              "      <td>157.229996</td>\n",
              "      <td>146.720001</td>\n",
              "      <td>157.169998</td>\n",
              "      <td>157.169998</td>\n",
              "      <td>58582500</td>\n",
              "      <td>153.706665</td>\n",
              "      <td>50.246760</td>\n",
              "      <td>46.598391</td>\n",
              "      <td>48.090164</td>\n",
              "      <td>...</td>\n",
              "      <td>43.267305</td>\n",
              "      <td>43.267305</td>\n",
              "      <td>62.015613</td>\n",
              "      <td>62.015613</td>\n",
              "      <td>59.786564</td>\n",
              "      <td>59.786564</td>\n",
              "      <td>7.042155</td>\n",
              "      <td>49.282203</td>\n",
              "      <td>50.280496</td>\n",
              "      <td>-0.797751</td>\n",
              "    </tr>\n",
              "    <tr>\n",
              "      <th>2018-12-27</th>\n",
              "      <td>155.839996</td>\n",
              "      <td>156.770004</td>\n",
              "      <td>150.070007</td>\n",
              "      <td>156.149994</td>\n",
              "      <td>156.149994</td>\n",
              "      <td>53117100</td>\n",
              "      <td>154.330002</td>\n",
              "      <td>47.218775</td>\n",
              "      <td>45.400320</td>\n",
              "      <td>47.377360</td>\n",
              "      <td>...</td>\n",
              "      <td>43.267305</td>\n",
              "      <td>43.267305</td>\n",
              "      <td>56.658954</td>\n",
              "      <td>56.658954</td>\n",
              "      <td>58.892961</td>\n",
              "      <td>58.892961</td>\n",
              "      <td>-0.648981</td>\n",
              "      <td>41.823236</td>\n",
              "      <td>49.392046</td>\n",
              "      <td>-0.806178</td>\n",
              "    </tr>\n",
              "    <tr>\n",
              "      <th>2018-12-28</th>\n",
              "      <td>157.500000</td>\n",
              "      <td>158.520004</td>\n",
              "      <td>154.550003</td>\n",
              "      <td>156.229996</td>\n",
              "      <td>156.229996</td>\n",
              "      <td>42232500</td>\n",
              "      <td>156.433334</td>\n",
              "      <td>54.869700</td>\n",
              "      <td>45.438092</td>\n",
              "      <td>46.989349</td>\n",
              "      <td>...</td>\n",
              "      <td>31.933775</td>\n",
              "      <td>31.933775</td>\n",
              "      <td>49.594617</td>\n",
              "      <td>49.594617</td>\n",
              "      <td>56.236292</td>\n",
              "      <td>56.236292</td>\n",
              "      <td>0.051234</td>\n",
              "      <td>49.255917</td>\n",
              "      <td>48.284017</td>\n",
              "      <td>-0.803761</td>\n",
              "    </tr>\n",
              "  </tbody>\n",
              "</table>\n",
              "<p>5 rows × 68 columns</p>\n",
              "</div>"
            ],
            "text/plain": [
              "                  open        high         low       close   adj close  \\\n",
              "date                                                                     \n",
              "2018-12-21  156.860001  158.160004  149.630005  150.729996  150.729996   \n",
              "2018-12-24  148.149994  151.550003  146.589996  146.830002  146.830002   \n",
              "2018-12-26  148.300003  157.229996  146.720001  157.169998  157.169998   \n",
              "2018-12-27  155.839996  156.770004  150.070007  156.149994  156.149994   \n",
              "2018-12-28  157.500000  158.520004  154.550003  156.229996  156.229996   \n",
              "\n",
              "              volume      middle         cr     cr-ma1     cr-ma2    ...     \\\n",
              "date                                                                 ...      \n",
              "2018-12-21  95744600  152.840002  44.585828  49.158493  49.717119    ...      \n",
              "2018-12-24  37169200  148.323334  44.382665  48.505741  49.016877    ...      \n",
              "2018-12-26  58582500  153.706665  50.246760  46.598391  48.090164    ...      \n",
              "2018-12-27  53117100  154.330002  47.218775  45.400320  47.377360    ...      \n",
              "2018-12-28  42232500  156.433334  54.869700  45.438092  46.989349    ...      \n",
              "\n",
              "                dx_14         dx   dx_6_ema        adx  adx_6_ema       adxr  \\\n",
              "date                                                                           \n",
              "2018-12-21  78.587502  78.587502  64.833500  64.833500  54.646948  54.646948   \n",
              "2018-12-24  81.218528  81.218528  69.514937  69.514937  58.894945  58.894945   \n",
              "2018-12-26  43.267305  43.267305  62.015613  62.015613  59.786564  59.786564   \n",
              "2018-12-27  43.267305  43.267305  56.658954  56.658954  58.892961  58.892961   \n",
              "2018-12-28  31.933775  31.933775  49.594617  49.594617  56.236292  56.236292   \n",
              "\n",
              "              change         vr  vr_10_sma      trix  \n",
              "date                                                  \n",
              "2018-12-21 -3.889566  46.373632  49.744131 -0.739419  \n",
              "2018-12-24 -2.587404  47.755730  49.444370 -0.777095  \n",
              "2018-12-26  7.042155  49.282203  50.280496 -0.797751  \n",
              "2018-12-27 -0.648981  41.823236  49.392046 -0.806178  \n",
              "2018-12-28  0.051234  49.255917  48.284017 -0.803761  \n",
              "\n",
              "[5 rows x 68 columns]"
            ]
          },
          "metadata": {
            "tags": []
          },
          "execution_count": 17
        }
      ]
    },
    {
      "metadata": {
        "id": "mUFvORvEKyHg",
        "colab_type": "code",
        "colab": {
          "base_uri": "https://localhost:8080/",
          "height": 1071
        },
        "outputId": "16228c64-6f2d-486a-a2f9-71c504f4cefa"
      },
      "cell_type": "code",
      "source": [
        "data.isnull().any()"
      ],
      "execution_count": 18,
      "outputs": [
        {
          "output_type": "execute_result",
          "data": {
            "text/plain": [
              "open             False\n",
              "high             False\n",
              "low              False\n",
              "close            False\n",
              "adj close        False\n",
              "volume           False\n",
              "middle           False\n",
              "cr                True\n",
              "cr-ma1            True\n",
              "cr-ma2            True\n",
              "cr-ma3            True\n",
              "CR                True\n",
              "rsv_9            False\n",
              "kdjk_9           False\n",
              "kdjk             False\n",
              "kdjd_9           False\n",
              "kdjd             False\n",
              "kdjj_9           False\n",
              "kdjj             False\n",
              "open_10_sma      False\n",
              "close_26_ema     False\n",
              "macd             False\n",
              "macds            False\n",
              "macdh            False\n",
              "close_20_sma     False\n",
              "close_20_mstd     True\n",
              "boll             False\n",
              "boll_ub           True\n",
              "boll_lb           True\n",
              "close_-1_s        True\n",
              "                 ...  \n",
              "cci               True\n",
              "tr                True\n",
              "close_10_sma     False\n",
              "close_50_sma     False\n",
              "dma              False\n",
              "high_delta        True\n",
              "um                True\n",
              "low_delta         True\n",
              "dm                True\n",
              "pdm              False\n",
              "pdm_14_ema       False\n",
              "pdm_14           False\n",
              "atr_14            True\n",
              "pdi_14            True\n",
              "pdi               True\n",
              "mdm              False\n",
              "mdm_14_ema       False\n",
              "mdm_14           False\n",
              "mdi_14            True\n",
              "mdi               True\n",
              "dx_14             True\n",
              "dx                True\n",
              "dx_6_ema          True\n",
              "adx               True\n",
              "adx_6_ema         True\n",
              "adxr              True\n",
              "change            True\n",
              "vr                True\n",
              "vr_10_sma         True\n",
              "trix              True\n",
              "Length: 68, dtype: bool"
            ]
          },
          "metadata": {
            "tags": []
          },
          "execution_count": 18
        }
      ]
    },
    {
      "metadata": {
        "id": "5YVoznNNKz4N",
        "colab_type": "code",
        "colab": {
          "base_uri": "https://localhost:8080/",
          "height": 1071
        },
        "outputId": "ee156c92-10a2-478c-8be8-37e0b377856a"
      },
      "cell_type": "code",
      "source": [
        "data.isnull().sum() / len(data)"
      ],
      "execution_count": 19,
      "outputs": [
        {
          "output_type": "execute_result",
          "data": {
            "text/plain": [
              "open             0.000000\n",
              "high             0.000000\n",
              "low              0.000000\n",
              "close            0.000000\n",
              "adj close        0.000000\n",
              "volume           0.000000\n",
              "middle           0.000000\n",
              "cr               0.000794\n",
              "cr-ma1           0.003177\n",
              "cr-ma2           0.004766\n",
              "cr-ma3           0.007943\n",
              "CR               0.000794\n",
              "rsv_9            0.000000\n",
              "kdjk_9           0.000000\n",
              "kdjk             0.000000\n",
              "kdjd_9           0.000000\n",
              "kdjd             0.000000\n",
              "kdjj_9           0.000000\n",
              "kdjj             0.000000\n",
              "open_10_sma      0.000000\n",
              "close_26_ema     0.000000\n",
              "macd             0.000000\n",
              "macds            0.000000\n",
              "macdh            0.000000\n",
              "close_20_sma     0.000000\n",
              "close_20_mstd    0.000794\n",
              "boll             0.000000\n",
              "boll_ub          0.000794\n",
              "boll_lb          0.000794\n",
              "close_-1_s       0.000794\n",
              "                   ...   \n",
              "cci              0.000794\n",
              "tr               0.000794\n",
              "close_10_sma     0.000000\n",
              "close_50_sma     0.000000\n",
              "dma              0.000000\n",
              "high_delta       0.000794\n",
              "um               0.000794\n",
              "low_delta        0.000794\n",
              "dm               0.000794\n",
              "pdm              0.000000\n",
              "pdm_14_ema       0.000000\n",
              "pdm_14           0.000000\n",
              "atr_14           0.000794\n",
              "pdi_14           0.000794\n",
              "pdi              0.000794\n",
              "mdm              0.000000\n",
              "mdm_14_ema       0.000000\n",
              "mdm_14           0.000000\n",
              "mdi_14           0.000794\n",
              "mdi              0.000794\n",
              "dx_14            0.000794\n",
              "dx               0.000794\n",
              "dx_6_ema         0.000794\n",
              "adx              0.000794\n",
              "adx_6_ema        0.000794\n",
              "adxr             0.000794\n",
              "change           0.000794\n",
              "vr               0.000794\n",
              "vr_10_sma        0.001589\n",
              "trix             0.000794\n",
              "Length: 68, dtype: float64"
            ]
          },
          "metadata": {
            "tags": []
          },
          "execution_count": 19
        }
      ]
    },
    {
      "metadata": {
        "id": "93-kVXU9K3jk",
        "colab_type": "code",
        "colab": {}
      },
      "cell_type": "code",
      "source": [
        "data.dropna(inplace=True)"
      ],
      "execution_count": 0,
      "outputs": []
    },
    {
      "metadata": {
        "id": "MZf76jF3K6gP",
        "colab_type": "code",
        "colab": {}
      },
      "cell_type": "code",
      "source": [
        "X = data.drop(['open', 'high', 'low', 'close', 'adj close', 'volume', 'middle', 'close_-1_s'], axis=1).shift(10).dropna()\n",
        "y = data['adj close']\n",
        "\n",
        "trainX, testX, trainY, testY = train_test_split(X.values, y[10:].values, test_size=.2)"
      ],
      "execution_count": 0,
      "outputs": []
    },
    {
      "metadata": {
        "id": "AdTQIpzLLjve",
        "colab_type": "code",
        "colab": {}
      },
      "cell_type": "code",
      "source": [
        "rf = RandomForestRegressor(n_estimators=250, verbose=3, n_jobs=-1)"
      ],
      "execution_count": 0,
      "outputs": []
    },
    {
      "metadata": {
        "id": "StIPlsxJL8hH",
        "colab_type": "code",
        "colab": {
          "base_uri": "https://localhost:8080/",
          "height": 4437
        },
        "outputId": "41ef688f-cf54-419f-f2d0-84b1b7e617b3"
      },
      "cell_type": "code",
      "source": [
        "rf.fit(trainX, trainY)"
      ],
      "execution_count": 32,
      "outputs": [
        {
          "output_type": "stream",
          "text": [
            "[Parallel(n_jobs=-1)]: Using backend ThreadingBackend with 2 concurrent workers.\n"
          ],
          "name": "stderr"
        },
        {
          "output_type": "stream",
          "text": [
            "building tree 1 of 250building tree 2 of 250\n",
            "\n",
            "building tree 3 of 250building tree 4 of 250\n",
            "\n",
            "building tree 5 of 250\n",
            "building tree 6 of 250\n",
            "building tree 7 of 250\n",
            "building tree 8 of 250\n",
            "building tree 9 of 250\n",
            "building tree 10 of 250\n",
            "building tree 11 of 250\n",
            "building tree 12 of 250\n",
            "building tree 13 of 250\n",
            "building tree 14 of 250\n",
            "building tree 15 of 250\n",
            "building tree 16 of 250\n",
            "building tree 17 of 250\n",
            "building tree 18 of 250\n",
            "building tree 19 of 250\n",
            "building tree 20 of 250\n",
            "building tree 21 of 250\n",
            "building tree 22 of 250\n",
            "building tree 23 of 250\n",
            "building tree 24 of 250\n",
            "building tree 25 of 250\n",
            "building tree 26 of 250\n",
            "building tree 27 of 250\n",
            "building tree 28 of 250\n",
            "building tree 29 of 250\n",
            "building tree 30 of 250\n"
          ],
          "name": "stdout"
        },
        {
          "output_type": "stream",
          "text": [
            "[Parallel(n_jobs=-1)]: Done  28 tasks      | elapsed:    0.6s\n"
          ],
          "name": "stderr"
        },
        {
          "output_type": "stream",
          "text": [
            "building tree 31 of 250\n",
            "building tree 32 of 250\n",
            "building tree 33 of 250\n",
            "building tree 34 of 250\n",
            "building tree 35 of 250\n",
            "building tree 36 of 250\n",
            "building tree 37 of 250\n",
            "building tree 38 of 250\n",
            "building tree 39 of 250\n",
            "building tree 40 of 250\n",
            "building tree 41 of 250\n",
            "building tree 42 of 250\n",
            "building tree 43 of 250\n",
            "building tree 44 of 250\n",
            "building tree 45 of 250\n",
            "building tree 46 of 250\n",
            "building tree 47 of 250\n",
            "building tree 48 of 250\n",
            "building tree 49 of 250\n",
            "building tree 50 of 250\n",
            "building tree 51 of 250\n",
            "building tree 52 of 250\n",
            "building tree 53 of 250building tree 54 of 250\n",
            "\n",
            "building tree 55 of 250\n",
            "building tree 56 of 250\n",
            "building tree 57 of 250\n",
            "building tree 58 of 250\n",
            "building tree 59 of 250\n",
            "building tree 60 of 250\n",
            "building tree 61 of 250\n",
            "building tree 62 of 250\n",
            "building tree 63 of 250\n",
            "building tree 64 of 250\n",
            "building tree 65 of 250\n",
            "building tree 66 of 250\n",
            "building tree 67 of 250\n",
            "building tree 68 of 250\n",
            "building tree 69 of 250\n",
            "building tree 70 of 250\n",
            "building tree 71 of 250\n",
            "building tree 72 of 250\n",
            "building tree 73 of 250\n",
            "building tree 74 of 250\n",
            "building tree 75 of 250\n",
            "building tree 76 of 250\n",
            "building tree 77 of 250\n",
            "building tree 78 of 250\n",
            "building tree 79 of 250\n",
            "building tree 80 of 250\n",
            "building tree 81 of 250building tree 82 of 250\n",
            "\n",
            "building tree 83 of 250\n",
            "building tree 84 of 250\n",
            "building tree 85 of 250\n",
            "building tree 86 of 250\n",
            "building tree 87 of 250\n",
            "building tree 88 of 250\n",
            "building tree 89 of 250\n",
            "building tree 90 of 250\n",
            "building tree 91 of 250\n",
            "building tree 92 of 250\n",
            "building tree 93 of 250\n",
            "building tree 94 of 250\n",
            "building tree 95 of 250\n",
            "building tree 96 of 250\n",
            "building tree 97 of 250\n",
            "building tree 98 of 250\n",
            "building tree 99 of 250\n",
            "building tree 100 of 250\n",
            "building tree 101 of 250\n",
            "building tree 102 of 250\n",
            "building tree 103 of 250\n",
            "building tree 104 of 250\n",
            "building tree 105 of 250\n",
            "building tree 106 of 250\n",
            "building tree 107 of 250\n",
            "building tree 108 of 250\n",
            "building tree 109 of 250\n",
            "building tree 110 of 250\n",
            "building tree 111 of 250\n",
            "building tree 112 of 250\n",
            "building tree 113 of 250\n",
            "building tree 114 of 250\n",
            "building tree 115 of 250\n",
            "building tree 116 of 250\n",
            "building tree 117 of 250\n",
            "building tree 118 of 250\n",
            "building tree 119 of 250\n",
            "building tree 120 of 250\n",
            "building tree 121 of 250\n",
            "building tree 122 of 250\n",
            "building tree 123 of 250\n",
            "building tree 124 of 250\n",
            "building tree 125 of 250\n"
          ],
          "name": "stdout"
        },
        {
          "output_type": "stream",
          "text": [
            "[Parallel(n_jobs=-1)]: Done 124 tasks      | elapsed:    2.1s\n"
          ],
          "name": "stderr"
        },
        {
          "output_type": "stream",
          "text": [
            "building tree 126 of 250\n",
            "building tree 127 of 250\n",
            "building tree 128 of 250\n",
            "building tree 129 of 250\n",
            "building tree 130 of 250\n",
            "building tree 131 of 250\n",
            "building tree 132 of 250\n",
            "building tree 133 of 250\n",
            "building tree 134 of 250\n",
            "building tree 135 of 250\n",
            "building tree 136 of 250\n",
            "building tree 137 of 250\n",
            "building tree 138 of 250\n",
            "building tree 139 of 250\n",
            "building tree 140 of 250\n",
            "building tree 141 of 250\n",
            "building tree 142 of 250\n",
            "building tree 143 of 250\n",
            "building tree 144 of 250\n",
            "building tree 145 of 250\n",
            "building tree 146 of 250\n",
            "building tree 147 of 250\n",
            "building tree 148 of 250\n",
            "building tree 149 of 250\n",
            "building tree 150 of 250\n",
            "building tree 151 of 250\n",
            "building tree 152 of 250\n",
            "building tree 153 of 250\n",
            "building tree 154 of 250\n",
            "building tree 155 of 250\n",
            "building tree 156 of 250\n",
            "building tree 157 of 250\n",
            "building tree 158 of 250\n",
            "building tree 159 of 250\n",
            "building tree 160 of 250\n",
            "building tree 161 of 250\n",
            "building tree 162 of 250\n",
            "building tree 163 of 250\n",
            "building tree 164 of 250\n",
            "building tree 165 of 250\n",
            "building tree 166 of 250\n",
            "building tree 167 of 250\n",
            "building tree 168 of 250\n",
            "building tree 169 of 250\n",
            "building tree 170 of 250\n",
            "building tree 171 of 250\n",
            "building tree 172 of 250\n",
            "building tree 173 of 250\n",
            "building tree 174 of 250\n",
            "building tree 175 of 250\n",
            "building tree 176 of 250\n",
            "building tree 177 of 250\n",
            "building tree 178 of 250\n",
            "building tree 179 of 250\n",
            "building tree 180 of 250\n",
            "building tree 181 of 250\n",
            "building tree 182 of 250\n",
            "building tree 183 of 250\n",
            "building tree 184 of 250\n",
            "building tree 185 of 250\n",
            "building tree 186 of 250\n",
            "building tree 187 of 250\n",
            "building tree 188 of 250\n",
            "building tree 189 of 250\n",
            "building tree 190 of 250\n",
            "building tree 191 of 250\n",
            "building tree 192 of 250\n",
            "building tree 193 of 250\n",
            "building tree 194 of 250\n",
            "building tree 195 of 250\n",
            "building tree 196 of 250\n",
            "building tree 197 of 250\n",
            "building tree 198 of 250\n",
            "building tree 199 of 250\n",
            "building tree 200 of 250\n",
            "building tree 201 of 250\n",
            "building tree 202 of 250\n",
            "building tree 203 of 250\n",
            "building tree 204 of 250\n",
            "building tree 205 of 250\n",
            "building tree 206 of 250\n",
            "building tree 207 of 250\n",
            "building tree 208 of 250\n",
            "building tree 209 of 250\n",
            "building tree 210 of 250\n",
            "building tree 211 of 250\n",
            "building tree 212 of 250\n",
            "building tree 213 of 250\n",
            "building tree 214 of 250\n",
            "building tree 215 of 250\n",
            "building tree 216 of 250\n",
            "building tree 217 of 250\n",
            "building tree 218 of 250\n",
            "building tree 219 of 250\n",
            "building tree 220 of 250\n",
            "building tree 221 of 250\n",
            "building tree 222 of 250\n",
            "building tree 223 of 250\n",
            "building tree 224 of 250\n",
            "building tree 225 of 250\n",
            "building tree 226 of 250\n",
            "building tree 227 of 250\n",
            "building tree 228 of 250\n",
            "building tree 229 of 250\n",
            "building tree 230 of 250\n",
            "building tree 231 of 250\n",
            "building tree 232 of 250\n",
            "building tree 233 of 250\n",
            "building tree 234 of 250\n",
            "building tree 235 of 250\n",
            "building tree 236 of 250\n",
            "building tree 237 of 250\n",
            "building tree 238 of 250\n",
            "building tree 239 of 250\n",
            "building tree 240 of 250\n",
            "building tree 241 of 250\n",
            "building tree 242 of 250\n",
            "building tree 243 of 250\n",
            "building tree 244 of 250\n",
            "building tree 245 of 250\n",
            "building tree 246 of 250\n",
            "building tree 247 of 250\n",
            "building tree 248 of 250\n",
            "building tree 249 of 250\n",
            "building tree 250 of 250\n"
          ],
          "name": "stdout"
        },
        {
          "output_type": "stream",
          "text": [
            "[Parallel(n_jobs=-1)]: Done 250 out of 250 | elapsed:    4.7s finished\n"
          ],
          "name": "stderr"
        },
        {
          "output_type": "execute_result",
          "data": {
            "text/plain": [
              "RandomForestRegressor(bootstrap=True, criterion='mse', max_depth=None,\n",
              "           max_features='auto', max_leaf_nodes=None,\n",
              "           min_impurity_decrease=0.0, min_impurity_split=None,\n",
              "           min_samples_leaf=1, min_samples_split=2,\n",
              "           min_weight_fraction_leaf=0.0, n_estimators=250, n_jobs=-1,\n",
              "           oob_score=False, random_state=None, verbose=3, warm_start=False)"
            ]
          },
          "metadata": {
            "tags": []
          },
          "execution_count": 32
        }
      ]
    },
    {
      "metadata": {
        "id": "x-bTocAeVQCD",
        "colab_type": "code",
        "colab": {
          "base_uri": "https://localhost:8080/",
          "height": 102
        },
        "outputId": "c7bf5a69-1b26-46d7-c378-7be88dd9d0a0"
      },
      "cell_type": "code",
      "source": [
        "rf.score(testX, testY)"
      ],
      "execution_count": 33,
      "outputs": [
        {
          "output_type": "stream",
          "text": [
            "[Parallel(n_jobs=2)]: Using backend ThreadingBackend with 2 concurrent workers.\n",
            "[Parallel(n_jobs=2)]: Done  28 tasks      | elapsed:    0.0s\n",
            "[Parallel(n_jobs=2)]: Done 124 tasks      | elapsed:    0.0s\n",
            "[Parallel(n_jobs=2)]: Done 250 out of 250 | elapsed:    0.1s finished\n"
          ],
          "name": "stderr"
        },
        {
          "output_type": "execute_result",
          "data": {
            "text/plain": [
              "0.9952774236058338"
            ]
          },
          "metadata": {
            "tags": []
          },
          "execution_count": 33
        }
      ]
    },
    {
      "metadata": {
        "id": "dL6QBcx_MDla",
        "colab_type": "code",
        "colab": {
          "base_uri": "https://localhost:8080/",
          "height": 1037
        },
        "outputId": "38d5d587-e484-41ca-95d0-1166d4c09c98"
      },
      "cell_type": "code",
      "source": [
        "for i in range(len(X.keys())):\n",
        "  print(X.keys()[i], rf.feature_importances_[i] * 100)"
      ],
      "execution_count": 34,
      "outputs": [
        {
          "output_type": "stream",
          "text": [
            "cr 0.028031808610252267\n",
            "cr-ma1 0.060361859207849866\n",
            "cr-ma2 0.1541831672354518\n",
            "cr-ma3 0.19376404669410968\n",
            "CR 0.03899062645798657\n",
            "rsv_9 0.009980836110466632\n",
            "kdjk_9 0.014941718922889067\n",
            "kdjk 0.018731765530634083\n",
            "kdjd_9 0.06277624347560505\n",
            "kdjd 0.06435036973668491\n",
            "kdjj_9 0.009095126043482322\n",
            "kdjj 0.009335635498842388\n",
            "open_10_sma 13.548850551916445\n",
            "close_26_ema 6.485904301459665\n",
            "macd 0.2239219649279357\n",
            "macds 0.20378794057917204\n",
            "macdh 0.1546252605880091\n",
            "close_20_sma 11.549706338491896\n",
            "close_20_mstd 0.05009046257736157\n",
            "boll 9.940144469710631\n",
            "boll_ub 4.6633407332751915\n",
            "boll_lb 9.25303610620422\n",
            "close_-1_d 0.006279537588724156\n",
            "rs_10 0.06603741958814358\n",
            "rsi_10 0.060931915813666034\n",
            "rsi 0.05595117960749639\n",
            "wr_10 0.012831824168806261\n",
            "wr 0.010193321362568994\n",
            "middle_10_sma 13.03872652756115\n",
            "cci_10 0.00844769731360202\n",
            "cci 0.008196369942347386\n",
            "tr 0.009591685122367695\n",
            "close_10_sma 18.06215427514578\n",
            "close_50_sma 10.57054905916743\n",
            "dma 0.1308088010602637\n",
            "high_delta 0.008561494464175671\n",
            "um 0.0029338207369576045\n",
            "low_delta 0.006765252895930779\n",
            "dm 0.0026406919769558926\n",
            "pdm 0.004367333087596894\n",
            "pdm_14_ema 0.055242284711488454\n",
            "pdm_14 0.048091371547921445\n",
            "atr_14 0.33826730101578606\n",
            "pdi_14 0.01985416434765399\n",
            "pdi 0.015610898193197916\n",
            "mdm 0.0023799611009754675\n",
            "mdm_14_ema 0.04104802524868845\n",
            "mdm_14 0.03316226785126655\n",
            "mdi_14 0.023257426819439056\n",
            "mdi 0.02403389140193832\n",
            "dx_14 0.007287749122177232\n",
            "dx 0.00750843695525241\n",
            "dx_6_ema 0.018798570851528335\n",
            "adx 0.019086296896619642\n",
            "adx_6_ema 0.06719875084452415\n",
            "adxr 0.05491364979071351\n",
            "change 0.0061135559853334725\n",
            "vr 0.13034003322943083\n",
            "vr_10_sma 0.17658519761884842\n",
            "trix 0.10730062660849414\n"
          ],
          "name": "stdout"
        }
      ]
    },
    {
      "metadata": {
        "id": "5r8KKJsDNAz7",
        "colab_type": "code",
        "colab": {
          "base_uri": "https://localhost:8080/",
          "height": 560
        },
        "outputId": "fc93bcba-b0f2-447b-ae1e-a082a207324f"
      },
      "cell_type": "code",
      "source": [
        "plt.xticks(rotation=90, fontsize=10)\n",
        "plt.rcParams[\"figure.figsize\"] = (20,8)\n",
        "plt.bar([a for a in X.keys()], rf.feature_importances_, width=.5, color='red')"
      ],
      "execution_count": 35,
      "outputs": [
        {
          "output_type": "execute_result",
          "data": {
            "text/plain": [
              "<Container object of 60 artists>"
            ]
          },
          "metadata": {
            "tags": []
          },
          "execution_count": 35
        },
        {
          "output_type": "display_data",
          "data": {
            "image/png": "[encoded data removed]",
            "text/plain": [
              "<matplotlib.figure.Figure at 0x7f7f969f1a58>"
            ]
          },
          "metadata": {
            "tags": []
          }
        }
      ]
    }
  ]
}